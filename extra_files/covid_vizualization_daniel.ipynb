{
 "cells": [
  {
   "cell_type": "code",
   "execution_count": 1,
   "id": "e326c186",
   "metadata": {},
   "outputs": [],
   "source": [
    "import pandas as pd \n",
    "import numpy as np\n",
    "import requests \n",
    "import os\n",
    "import matplotlib.pyplot as plt\n",
    "import matplotlib.dates as mdate\n",
    "import datetime"
   ]
  },
  {
   "cell_type": "code",
   "execution_count": 2,
   "id": "2a904a36",
   "metadata": {},
   "outputs": [],
   "source": [
    "# Function to import data sets (with url)\n",
    "def get_data(url):\n",
    "    csv_url = url\n",
    "    req = requests.get(csv_url)\n",
    "    url_content = req.content\n",
    "    csv_file = open('downloaded.csv', 'wb')\n",
    "    csv_file.write(url_content)\n",
    "    csv_file.close()\n",
    "    df = pd.read_csv('downloaded.csv')\n",
    "    os.remove(\"downloaded.csv\")\n",
    "    return df"
   ]
  },
  {
   "cell_type": "code",
   "execution_count": 3,
   "id": "db4969db",
   "metadata": {},
   "outputs": [],
   "source": [
    "## Export dataset Cases|Deads|Rate weekly\n",
    "df_cases_deaths_rate = get_data(\"https://opendata.ecdc.europa.eu/covid19/nationalcasedeath/csv\")\n",
    "#df_cases_deads_l15 = get_data(\"https://opendata.ecdc.europa.eu/covid19/nationalcasedeath/csv\")\n",
    "#df_sub_nation_rating = get_data(\"https://opendata.ecdc.europa.eu/covid19/subnationalcasedaily/csv\")\n",
    "#df_hospital_rating = get_data(\"https://opendata.ecdc.europa.eu/covid19/hospitalicuadmissionrates/csv/data.csv\")\n",
    "#df_testing = get_data(\"https://opendata.ecdc.europa.eu/covid19/testing/csv\")\n",
    "#df_age = get_data(\"https://opendata.ecdc.europa.eu/covid19/agecasesnational/csv\")\n",
    "#df_vacine = get_data(\"https://opendata.ecdc.europa.eu/covid19/vaccine_tracker/csv/data.csv\")\n",
    "#df_indicators = get_data(\"https://opendata.ecdc.europa.eu/covid19/movementindicators/csv/data.csv\")\n",
    "\n",
    "\n",
    "#Delete Columns \n",
    "df_cases_deaths_rate = df_cases_deaths_rate.drop(['source'], axis=1)\n",
    "#Filter Dataset Cases\n",
    "df_cases = df_cases_deaths_rate[df_cases_deaths_rate['indicator']=='cases']\n",
    "#Filter Dataset Deaths\n",
    "df_deaths = df_cases_deaths_rate[df_cases_deaths_rate['indicator']=='deaths']\n",
    "\n",
    "\n",
    "## add features to df_cases\n",
    "\n",
    "# add weekly values\n",
    " df_deaths['weekly_count']=df_deaths['cumulative_count'] - df_deaths['cumulative_count'].shift(1)\n",
    "\n",
    "\n",
    "\n",
    "#rate_14_day -> 14-day notification rate of reported COVID-19 cases per 100000 population \n",
    "#OR 14-day notification rate of reported deaths per 1 000 000 population\n"
   ]
  },
  {
   "cell_type": "code",
   "execution_count": 4,
   "id": "eeff9be1",
   "metadata": {},
   "outputs": [
    {
     "name": "stderr",
     "output_type": "stream",
     "text": [
      "<ipython-input-4-58940b2b84fa>:6: SettingWithCopyWarning: \n",
      "A value is trying to be set on a copy of a slice from a DataFrame.\n",
      "Try using .loc[row_indexer,col_indexer] = value instead\n",
      "\n",
      "See the caveats in the documentation: https://pandas.pydata.org/pandas-docs/stable/user_guide/indexing.html#returning-a-view-versus-a-copy\n",
      "  df_deaths['full_date'] = full_Date\n",
      "<ipython-input-4-58940b2b84fa>:7: SettingWithCopyWarning: \n",
      "A value is trying to be set on a copy of a slice from a DataFrame.\n",
      "Try using .loc[row_indexer,col_indexer] = value instead\n",
      "\n",
      "See the caveats in the documentation: https://pandas.pydata.org/pandas-docs/stable/user_guide/indexing.html#returning-a-view-versus-a-copy\n",
      "  df_deaths['full_date'] = pd.to_datetime(df_deaths['full_date'] + '-1', format = '%Y-%W-%w')\n"
     ]
    }
   ],
   "source": [
    "# df_deaths\n",
    "\n",
    "# add full data columns\n",
    "full_Date = df_deaths['year_week'].to_string(index = False, dtype=\"string\").split('\\n')\n",
    "del(full_Date[-1])\n",
    "df_deaths['full_date'] = full_Date\n",
    "df_deaths['full_date'] = pd.to_datetime(df_deaths['full_date'] + '-1', format = '%Y-%W-%w')"
   ]
  },
  {
   "cell_type": "code",
   "execution_count": 5,
   "id": "8693c9c1",
   "metadata": {},
   "outputs": [
    {
     "name": "stderr",
     "output_type": "stream",
     "text": [
      "<ipython-input-5-ae6d399f316b>:6: SettingWithCopyWarning: \n",
      "A value is trying to be set on a copy of a slice from a DataFrame.\n",
      "Try using .loc[row_indexer,col_indexer] = value instead\n",
      "\n",
      "See the caveats in the documentation: https://pandas.pydata.org/pandas-docs/stable/user_guide/indexing.html#returning-a-view-versus-a-copy\n",
      "  df_cases['full_date'] = full_Date\n",
      "<ipython-input-5-ae6d399f316b>:7: SettingWithCopyWarning: \n",
      "A value is trying to be set on a copy of a slice from a DataFrame.\n",
      "Try using .loc[row_indexer,col_indexer] = value instead\n",
      "\n",
      "See the caveats in the documentation: https://pandas.pydata.org/pandas-docs/stable/user_guide/indexing.html#returning-a-view-versus-a-copy\n",
      "  df_cases['full_date'] = pd.to_datetime(df_cases['full_date'] + '-1', format = '%Y-%W-%w')\n"
     ]
    }
   ],
   "source": [
    "#df_cases\n",
    "\n",
    "# add full data columns\n",
    "full_Date = df_cases['year_week'].to_string(index = False, dtype=\"string\").split('\\n')\n",
    "del(full_Date[-1])\n",
    "df_cases['full_date'] = full_Date\n",
    "df_cases['full_date'] = pd.to_datetime(df_cases['full_date'] + '-1', format = '%Y-%W-%w')\n"
   ]
  },
  {
   "cell_type": "code",
   "execution_count": 19,
   "id": "28946b5c",
   "metadata": {},
   "outputs": [],
   "source": [
    "# Gráfico para analisar número de mortes/cases\n",
    "\n",
    "#mostrar ao longo do tempo, (definido na função)\n",
    "\n",
    "def get_cumulative(i_country, type):\n",
    "    if type == 'cases':\n",
    "        country_df = df_cases[df_cases['country']==i_country]\n",
    "        plt.plot(country_df['full_date'],country_df['cumulative_count'])\n",
    "        plt.title(\"Cumulative \" + type + \" on \" + i_country)\n",
    "    if type == 'deaths':\n",
    "        country_df = df_deaths[df_deaths['country']==i_country]\n",
    "        plt.plot(country_df['full_date'],country_df['cumulative_count'])\n",
    "        plt.title(\"Cumulative \" + type + \" on \" + i_country)\n",
    "    \n",
    "\n",
    "def get_14_day_rate(i_country, type):\n",
    "    if type == 'deaths':\n",
    "        country_df = df_deaths[df_deaths['country']==i_country]\n",
    "        plt.plot(country_df['full_date'],country_df['rate_14_day'])\n",
    "        plt.title(\"14 Day Rate \" + type + \" on \" + i_country)\n",
    "    if type == 'cases':\n",
    "        country_df = df_cases[df_cases['country']==i_country]\n",
    "        plt.plot(country_df['full_date'],country_df['rate_14_day'])\n",
    "        plt.title(\"14 Day Rate \" + type + \" on \" + i_country)\n",
    "        \n",
    "def get_daily(i_country, type):\n",
    "    if type == 'deaths':\n",
    "        country_df = df_deaths[df_deaths['country']==i_country]\n",
    "        plt.plot(country_df['full_date'],country_df['weekly_count'])\n",
    "        plt.title(\"Daily \" + type + \" on \" + i_country)\n",
    "    if type == 'cases':\n",
    "        country_df = df_cases[df_cases['country']==i_country]\n",
    "        plt.plot(country_df['full_date'],country_df['weekly_count'])\n",
    "        plt.title(\"Daily \" + type + \" on \" + i_country)\n",
    "\n"
   ]
  },
  {
   "cell_type": "code",
   "execution_count": null,
   "id": "fdccd085",
   "metadata": {},
   "outputs": [],
   "source": [
    "# funções para conseguir sitaução atual:\n",
    "\n",
    "# top casos/mortes semanal\n",
    "\n",
    "# maior variação - semana anterior\n",
    "\n",
    "# top vacinação - semana"
   ]
  },
  {
   "cell_type": "code",
   "execution_count": 28,
   "id": "b6f16644",
   "metadata": {},
   "outputs": [
    {
     "data": {
      "image/png": "[encoded data removed]",
      "text/plain": [
       "<Figure size 432x288 with 1 Axes>"
      ]
     },
     "metadata": {
      "needs_background": "light"
     },
     "output_type": "display_data"
    }
   ],
   "source": [
    "### testes\n",
    "get_daily('United States', 'cases')\n"
   ]
  },
  {
   "cell_type": "code",
   "execution_count": 27,
   "id": "107ad0be",
   "metadata": {},
   "outputs": [
    {
     "data": {
      "image/png": "[encoded data removed]",
      "text/plain": [
       "<Figure size 432x288 with 1 Axes>"
      ]
     },
     "metadata": {
      "needs_background": "light"
     },
     "output_type": "display_data"
    }
   ],
   "source": [
    "get_14_day_rate('United States', 'cases')\n"
   ]
  },
  {
   "cell_type": "code",
   "execution_count": null,
   "id": "369186eb",
   "metadata": {},
   "outputs": [],
   "source": [
    "\n"
   ]
  }
 ],
 "metadata": {
  "kernelspec": {
   "display_name": "Python 3",
   "language": "python",
   "name": "python3"
  },
  "language_info": {
   "codemirror_mode": {
    "name": "ipython",
    "version": 3
   },
   "file_extension": ".py",
   "mimetype": "text/x-python",
   "name": "python",
   "nbconvert_exporter": "python",
   "pygments_lexer": "ipython3",
   "version": "3.9.2"
  }
 },
 "nbformat": 4,
 "nbformat_minor": 5
}
